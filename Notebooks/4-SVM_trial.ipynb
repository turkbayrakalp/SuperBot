{
 "cells": [
  {
   "cell_type": "code",
   "execution_count": 1,
   "id": "58b7c528-46d6-426e-9263-9f7f4e80f797",
   "metadata": {},
   "outputs": [],
   "source": [
    "import pandas as pd\n",
    "import numpy as np\n",
    "\n",
    "df = pd.read_csv('../Dataframes/1-Combined_Data.csv')"
   ]
  },
  {
   "cell_type": "code",
   "execution_count": 2,
   "id": "cfedfb76-7eba-4fe0-bc79-b6b14bb8b952",
   "metadata": {},
   "outputs": [
    {
     "name": "stdout",
     "output_type": "stream",
     "text": [
      "Original DataFrame head:\n"
     ]
    },
    {
     "data": {
      "text/html": [
       "<div>\n",
       "<style scoped>\n",
       "    .dataframe tbody tr th:only-of-type {\n",
       "        vertical-align: middle;\n",
       "    }\n",
       "\n",
       "    .dataframe tbody tr th {\n",
       "        vertical-align: top;\n",
       "    }\n",
       "\n",
       "    .dataframe thead th {\n",
       "        text-align: right;\n",
       "    }\n",
       "</style>\n",
       "<table border=\"1\" class=\"dataframe\">\n",
       "  <thead>\n",
       "    <tr style=\"text-align: right;\">\n",
       "      <th></th>\n",
       "      <th>OpenTime</th>\n",
       "      <th>OpenPrice</th>\n",
       "      <th>HighPrice</th>\n",
       "      <th>LowPrice</th>\n",
       "      <th>ClosePrice</th>\n",
       "      <th>Volume</th>\n",
       "      <th>CloseTime</th>\n",
       "      <th>QuoteVolume</th>\n",
       "      <th>Count</th>\n",
       "      <th>TakerBuyVolume</th>\n",
       "      <th>TakerBuyQuoteVolume</th>\n",
       "      <th>Ignore</th>\n",
       "    </tr>\n",
       "  </thead>\n",
       "  <tbody>\n",
       "    <tr>\n",
       "      <th>0</th>\n",
       "      <td>1514764800000</td>\n",
       "      <td>13715.65</td>\n",
       "      <td>13715.65</td>\n",
       "      <td>13400.01</td>\n",
       "      <td>13556.15</td>\n",
       "      <td>123.616013</td>\n",
       "      <td>1514765699999</td>\n",
       "      <td>1.675545e+06</td>\n",
       "      <td>1572</td>\n",
       "      <td>63.227133</td>\n",
       "      <td>8.576108e+05</td>\n",
       "      <td>0</td>\n",
       "    </tr>\n",
       "    <tr>\n",
       "      <th>1</th>\n",
       "      <td>1514765700000</td>\n",
       "      <td>13533.75</td>\n",
       "      <td>13550.87</td>\n",
       "      <td>13402.00</td>\n",
       "      <td>13521.12</td>\n",
       "      <td>98.136430</td>\n",
       "      <td>1514766599999</td>\n",
       "      <td>1.321757e+06</td>\n",
       "      <td>1461</td>\n",
       "      <td>47.686389</td>\n",
       "      <td>6.422812e+05</td>\n",
       "      <td>0</td>\n",
       "    </tr>\n",
       "    <tr>\n",
       "      <th>2</th>\n",
       "      <td>1514766600000</td>\n",
       "      <td>13500.00</td>\n",
       "      <td>13545.37</td>\n",
       "      <td>13450.00</td>\n",
       "      <td>13470.41</td>\n",
       "      <td>79.904037</td>\n",
       "      <td>1514767499999</td>\n",
       "      <td>1.078825e+06</td>\n",
       "      <td>1000</td>\n",
       "      <td>43.710406</td>\n",
       "      <td>5.900347e+05</td>\n",
       "      <td>0</td>\n",
       "    </tr>\n",
       "    <tr>\n",
       "      <th>3</th>\n",
       "      <td>1514767500000</td>\n",
       "      <td>13494.65</td>\n",
       "      <td>13690.87</td>\n",
       "      <td>13450.00</td>\n",
       "      <td>13529.01</td>\n",
       "      <td>141.699719</td>\n",
       "      <td>1514768399999</td>\n",
       "      <td>1.917783e+06</td>\n",
       "      <td>1195</td>\n",
       "      <td>73.897993</td>\n",
       "      <td>1.000614e+06</td>\n",
       "      <td>0</td>\n",
       "    </tr>\n",
       "    <tr>\n",
       "      <th>4</th>\n",
       "      <td>1514768400000</td>\n",
       "      <td>13528.99</td>\n",
       "      <td>13571.74</td>\n",
       "      <td>13402.28</td>\n",
       "      <td>13445.63</td>\n",
       "      <td>72.537533</td>\n",
       "      <td>1514769299999</td>\n",
       "      <td>9.778198e+05</td>\n",
       "      <td>898</td>\n",
       "      <td>34.257652</td>\n",
       "      <td>4.618369e+05</td>\n",
       "      <td>0</td>\n",
       "    </tr>\n",
       "  </tbody>\n",
       "</table>\n",
       "</div>"
      ],
      "text/plain": [
       "        OpenTime  OpenPrice  HighPrice  LowPrice  ClosePrice      Volume  \\\n",
       "0  1514764800000   13715.65   13715.65  13400.01    13556.15  123.616013   \n",
       "1  1514765700000   13533.75   13550.87  13402.00    13521.12   98.136430   \n",
       "2  1514766600000   13500.00   13545.37  13450.00    13470.41   79.904037   \n",
       "3  1514767500000   13494.65   13690.87  13450.00    13529.01  141.699719   \n",
       "4  1514768400000   13528.99   13571.74  13402.28    13445.63   72.537533   \n",
       "\n",
       "       CloseTime   QuoteVolume  Count  TakerBuyVolume  TakerBuyQuoteVolume  \\\n",
       "0  1514765699999  1.675545e+06   1572       63.227133         8.576108e+05   \n",
       "1  1514766599999  1.321757e+06   1461       47.686389         6.422812e+05   \n",
       "2  1514767499999  1.078825e+06   1000       43.710406         5.900347e+05   \n",
       "3  1514768399999  1.917783e+06   1195       73.897993         1.000614e+06   \n",
       "4  1514769299999  9.778198e+05    898       34.257652         4.618369e+05   \n",
       "\n",
       "   Ignore  \n",
       "0       0  \n",
       "1       0  \n",
       "2       0  \n",
       "3       0  \n",
       "4       0  "
      ]
     },
     "execution_count": 2,
     "metadata": {},
     "output_type": "execute_result"
    }
   ],
   "source": [
    "import pandas as pd\n",
    "from sklearn.model_selection import train_test_split\n",
    "from sklearn.preprocessing import StandardScaler\n",
    "from sklearn.svm import SVC\n",
    "from sklearn.metrics import classification_report\n",
    "\n",
    "# Assuming `df` is your DataFrame\n",
    "print(\"Original DataFrame head:\")\n",
    "df.head()"
   ]
  },
  {
   "cell_type": "code",
   "execution_count": 3,
   "id": "602f3495-5824-4c6b-a394-8e10ee892f95",
   "metadata": {},
   "outputs": [
    {
     "name": "stdout",
     "output_type": "stream",
     "text": [
      "\n",
      "DataFrame after adding labels and dropping NaNs:\n"
     ]
    },
    {
     "data": {
      "text/html": [
       "<div>\n",
       "<style scoped>\n",
       "    .dataframe tbody tr th:only-of-type {\n",
       "        vertical-align: middle;\n",
       "    }\n",
       "\n",
       "    .dataframe tbody tr th {\n",
       "        vertical-align: top;\n",
       "    }\n",
       "\n",
       "    .dataframe thead th {\n",
       "        text-align: right;\n",
       "    }\n",
       "</style>\n",
       "<table border=\"1\" class=\"dataframe\">\n",
       "  <thead>\n",
       "    <tr style=\"text-align: right;\">\n",
       "      <th></th>\n",
       "      <th>ClosePrice</th>\n",
       "      <th>PriceChange</th>\n",
       "      <th>Label</th>\n",
       "    </tr>\n",
       "  </thead>\n",
       "  <tbody>\n",
       "    <tr>\n",
       "      <th>1</th>\n",
       "      <td>13521.12</td>\n",
       "      <td>-35.03</td>\n",
       "      <td>-1</td>\n",
       "    </tr>\n",
       "    <tr>\n",
       "      <th>2</th>\n",
       "      <td>13470.41</td>\n",
       "      <td>-50.71</td>\n",
       "      <td>-1</td>\n",
       "    </tr>\n",
       "    <tr>\n",
       "      <th>3</th>\n",
       "      <td>13529.01</td>\n",
       "      <td>58.60</td>\n",
       "      <td>-1</td>\n",
       "    </tr>\n",
       "    <tr>\n",
       "      <th>4</th>\n",
       "      <td>13445.63</td>\n",
       "      <td>-83.38</td>\n",
       "      <td>0</td>\n",
       "    </tr>\n",
       "    <tr>\n",
       "      <th>5</th>\n",
       "      <td>13560.00</td>\n",
       "      <td>114.37</td>\n",
       "      <td>1</td>\n",
       "    </tr>\n",
       "  </tbody>\n",
       "</table>\n",
       "</div>"
      ],
      "text/plain": [
       "   ClosePrice  PriceChange  Label\n",
       "1    13521.12       -35.03     -1\n",
       "2    13470.41       -50.71     -1\n",
       "3    13529.01        58.60     -1\n",
       "4    13445.63       -83.38      0\n",
       "5    13560.00       114.37      1"
      ]
     },
     "execution_count": 3,
     "metadata": {},
     "output_type": "execute_result"
    }
   ],
   "source": [
    "# Calculate the change in ClosePrice\n",
    "df['PriceChange'] = df['ClosePrice'].diff()\n",
    "\n",
    "# Define the margin as a percentage of the ClosePrice (e.g., 0.5%)\n",
    "margin = df['ClosePrice'] * 0.005\n",
    "\n",
    "# Generate labels: 0 for 'sell', 1 for 'buy', and -1 for 'hold'\n",
    "df['Label'] = 0 # Initialize with zeros\n",
    "df.loc[df['PriceChange'] > margin, 'Label'] = 1 # Set to 1 for 'buy'\n",
    "df.loc[(-margin <= df['PriceChange']) & (df['PriceChange'] <= margin), 'Label'] = -1 # Set to -1 for 'hold'\n",
    "\n",
    "# Drop the first row since it has NaN due to diff() operation\n",
    "df = df.dropna()\n",
    "\n",
    "print(\"\\nDataFrame after adding labels and dropping NaNs:\")\n",
    "df[['ClosePrice', 'PriceChange', 'Label']].head()"
   ]
  },
  {
   "cell_type": "code",
   "execution_count": 4,
   "id": "80c38af2-d932-4c12-b95e-149dae2386f5",
   "metadata": {},
   "outputs": [
    {
     "name": "stdout",
     "output_type": "stream",
     "text": [
      "\n",
      "Selected features and labels for the model:\n",
      "   OpenPrice  HighPrice  LowPrice  ClosePrice      Volume\n",
      "2   13533.75   13550.87  13402.00    13521.12   98.136430\n",
      "3   13500.00   13545.37  13450.00    13470.41   79.904037\n",
      "4   13494.65   13690.87  13450.00    13529.01  141.699719\n",
      "5   13528.99   13571.74  13402.28    13445.63   72.537533\n",
      "6   13469.99   13595.89  13445.63    13560.00   87.861758\n",
      "2   -1\n",
      "3   -1\n",
      "4    0\n",
      "5    1\n",
      "6    0\n",
      "Name: Label, dtype: int64\n"
     ]
    }
   ],
   "source": [
    "# Select features and labels\n",
    "features = df[['OpenPrice', 'HighPrice', 'LowPrice', 'ClosePrice', 'Volume']].shift(1).dropna() # Use previous row's data\n",
    "labels = df['Label'][1:] # Align labels with the shifted features\n",
    "\n",
    "print(\"\\nSelected features and labels for the model:\")\n",
    "print(features.head())\n",
    "print(labels.head())"
   ]
  },
  {
   "cell_type": "code",
   "execution_count": 5,
   "id": "944ca8fa-42e6-47dd-9c2c-d912fc5169c5",
   "metadata": {},
   "outputs": [
    {
     "name": "stdout",
     "output_type": "stream",
     "text": [
      "\n",
      "Training and testing set sizes:\n",
      "X_train: (167840, 5), X_test: (41960, 5)\n"
     ]
    }
   ],
   "source": [
    "# Split the data into training and testing sets\n",
    "X_train, X_test, y_train, y_test = train_test_split(features, labels, test_size=0.2, random_state=42)\n",
    "\n",
    "print(\"\\nTraining and testing set sizes:\")\n",
    "print(f\"X_train: {X_train.shape}, X_test: {X_test.shape}\")\n",
    "\n",
    "# Feature scaling\n",
    "scaler = StandardScaler()\n",
    "X_train_scaled = scaler.fit_transform(X_train)\n",
    "X_test_scaled = scaler.transform(X_test)"
   ]
  },
  {
   "cell_type": "code",
   "execution_count": 6,
   "id": "e943a6b9-7482-402c-8917-145505854a60",
   "metadata": {},
   "outputs": [
    {
     "name": "stdout",
     "output_type": "stream",
     "text": [
      "\n",
      "Model training completed.\n"
     ]
    }
   ],
   "source": [
    "# Train the SVM model\n",
    "model = SVC(kernel='rbf', C=1.0) # RBF kernel\n",
    "model.fit(X_train_scaled, y_train)\n",
    "print(\"\\nModel training completed.\")\n",
    "\n"
   ]
  },
  {
   "cell_type": "code",
   "execution_count": 7,
   "id": "568a763b-8a85-4325-a4e7-77578e5991f1",
   "metadata": {},
   "outputs": [
    {
     "name": "stdout",
     "output_type": "stream",
     "text": [
      "\n",
      "Classification report:\n",
      "              precision    recall  f1-score   support\n",
      "\n",
      "          -1       0.89      1.00      0.94     37543\n",
      "           0       0.00      0.00      0.00      2261\n",
      "           1       0.75      0.00      0.00      2156\n",
      "\n",
      "    accuracy                           0.89     41960\n",
      "   macro avg       0.55      0.33      0.32     41960\n",
      "weighted avg       0.84      0.89      0.85     41960\n",
      "\n"
     ]
    },
    {
     "name": "stderr",
     "output_type": "stream",
     "text": [
      "C:\\Users\\Alp\\anaconda3\\Lib\\site-packages\\sklearn\\metrics\\_classification.py:1344: UndefinedMetricWarning: Precision and F-score are ill-defined and being set to 0.0 in labels with no predicted samples. Use `zero_division` parameter to control this behavior.\n",
      "  _warn_prf(average, modifier, msg_start, len(result))\n",
      "C:\\Users\\Alp\\anaconda3\\Lib\\site-packages\\sklearn\\metrics\\_classification.py:1344: UndefinedMetricWarning: Precision and F-score are ill-defined and being set to 0.0 in labels with no predicted samples. Use `zero_division` parameter to control this behavior.\n",
      "  _warn_prf(average, modifier, msg_start, len(result))\n",
      "C:\\Users\\Alp\\anaconda3\\Lib\\site-packages\\sklearn\\metrics\\_classification.py:1344: UndefinedMetricWarning: Precision and F-score are ill-defined and being set to 0.0 in labels with no predicted samples. Use `zero_division` parameter to control this behavior.\n",
      "  _warn_prf(average, modifier, msg_start, len(result))\n"
     ]
    }
   ],
   "source": [
    "# Predict and evaluate the model\n",
    "y_pred = model.predict(X_test_scaled)\n",
    "print(\"\\nClassification report:\")\n",
    "print(classification_report(y_test, y_pred))\n",
    "\n",
    "# Note: Depending on the distribution of your classes, you might need to adjust the class weight parameter"
   ]
  },
  {
   "cell_type": "code",
   "execution_count": 8,
   "id": "11dd70c8-664c-47ab-8cc4-0f95192f03ed",
   "metadata": {},
   "outputs": [
    {
     "name": "stdout",
     "output_type": "stream",
     "text": [
      "Confusion Matrix:\n",
      "[[37542     0     1]\n",
      " [ 2261     0     0]\n",
      " [ 2153     0     3]]\n"
     ]
    },
    {
     "data": {
      "image/png": "[encoded data removed]",
      "text/plain": [
       "<Figure size 1000x700 with 2 Axes>"
      ]
     },
     "metadata": {},
     "output_type": "display_data"
    }
   ],
   "source": [
    "import matplotlib.pyplot as plt\n",
    "from sklearn.metrics import confusion_matrix\n",
    "import seaborn as sns; sns.set()  # For a nicer styling of the plots\n",
    "\n",
    "# Assuming you've already trained your model and made predictions (y_pred)\n",
    "\n",
    "# Compute confusion matrix\n",
    "cm = confusion_matrix(y_test, y_pred)\n",
    "print(\"Confusion Matrix:\")\n",
    "print(cm)\n",
    "\n",
    "# Plot the confusion matrix\n",
    "plt.figure(figsize=(10, 7))\n",
    "sns.heatmap(cm, annot=True, fmt=\"d\", cmap=\"Blues\", xticklabels=[\"Sell\", \"Hold\", \"Buy\"], yticklabels=[\"Sell\", \"Hold\", \"Buy\"])\n",
    "plt.title(\"Confusion Matrix\")\n",
    "plt.xlabel(\"Predicted Label\")\n",
    "plt.ylabel(\"True Label\")\n",
    "plt.show()"
   ]
  },
  {
   "cell_type": "code",
   "execution_count": null,
   "id": "6014245b-6834-4e1b-845c-1dc610234729",
   "metadata": {},
   "outputs": [],
   "source": []
  }
 ],
 "metadata": {
  "kernelspec": {
   "display_name": "Python 3 (ipykernel)",
   "language": "python",
   "name": "python3"
  },
  "language_info": {
   "codemirror_mode": {
    "name": "ipython",
    "version": 3
   },
   "file_extension": ".py",
   "mimetype": "text/x-python",
   "name": "python",
   "nbconvert_exporter": "python",
   "pygments_lexer": "ipython3",
   "version": "3.11.7"
  }
 },
 "nbformat": 4,
 "nbformat_minor": 5
}
