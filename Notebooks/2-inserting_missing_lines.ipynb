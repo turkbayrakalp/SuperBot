{
 "cells": [
  {
   "cell_type": "code",
   "execution_count": 1,
   "id": "ba5743dd-213f-4758-bce1-5e5facd28716",
   "metadata": {},
   "outputs": [],
   "source": [
    "import pandas as pd"
   ]
  },
  {
   "cell_type": "code",
   "execution_count": 2,
   "id": "77270edc-c25b-4658-ad8e-a4d0c84db012",
   "metadata": {},
   "outputs": [],
   "source": [
    "pd.set_option('display.max_rows', 100)"
   ]
  },
  {
   "cell_type": "code",
   "execution_count": 3,
   "id": "4efeff5c-ca27-422f-b61f-9ebe37b520ea",
   "metadata": {},
   "outputs": [],
   "source": [
    "input_file_path = './../Dataframes/1-Combined_Data.csv'\n",
    "output_file_path = './../Dataframes/2-Inserted_Empty_Data.csv'\n",
    "sort_criterion = 'OpenTime'\n",
    "\n",
    "df = pd.read_csv(input_file_path, dtype={})\n"
   ]
  },
  {
   "cell_type": "code",
   "execution_count": 4,
   "id": "ed45ea7b-4205-4ec8-bea9-002e59cd6c53",
   "metadata": {},
   "outputs": [],
   "source": [
    "expected_diff = 900000  # 15 minutes in milliseconds\n",
    "\n",
    "def insert_missing_rows(df, sortCriterion):\n",
    "    missing_rows = []\n",
    "    for i in range(len(df) - 1):\n",
    "        current_row = df.iloc[i]\n",
    "        next_row = df.iloc[i+1]\n",
    "        current_start_time = int(current_row['OpenTime'])  # Adjust column name accordingly\n",
    "        next_start_time = int(next_row['OpenTime'])  # Adjust column name accordingly\n",
    "        diff = next_start_time - current_start_time\n",
    "        \n",
    "        while diff > expected_diff:\n",
    "            new_start_time = current_start_time + expected_diff\n",
    "            new_end_time = new_start_time + expected_diff - 1\n",
    "            \n",
    "            # Create a new missing row\n",
    "            missing_row = current_row.copy()\n",
    "            missing_row['OpenTime'] = new_start_time  # Adjust column name accordingly\n",
    "            missing_row['CloseTime'] = new_end_time  # Adjust column name accordingly\n",
    "            missing_rows.append(missing_row)\n",
    "            \n",
    "            current_start_time += expected_diff\n",
    "            diff -= expected_diff\n",
    "\n",
    "    # Append missing rows to the DataFrame if any\n",
    "    if missing_rows:\n",
    "        missing_df = pd.DataFrame(missing_rows, columns=df.columns)\n",
    "        df = pd.concat([df, missing_df], ignore_index=True)\n",
    "\n",
    "    return df.sort_values(by=sortCriterion).reset_index(drop=True)\n",
    "\n",
    "# Example usage\n",
    "# df = pd.read_csv('your_data.csv')\n",
    "# df = insert_missing_rows(df, 'Start Time')\n",
    "# print(df)\n"
   ]
  },
  {
   "cell_type": "code",
   "execution_count": null,
   "id": "76fa51ab-77ad-4986-bf55-052e79c4fcc8",
   "metadata": {},
   "outputs": [],
   "source": [
    "updated_df = insert_missing_rows(df, sort_criterion)"
   ]
  },
  {
   "cell_type": "code",
   "execution_count": null,
   "id": "15eb8d53-8c57-4515-a119-322796b11d0d",
   "metadata": {},
   "outputs": [],
   "source": [
    "updated_df.to_csv(output_file_path, index=False, header=None)"
   ]
  }
 ],
 "metadata": {
  "kernelspec": {
   "display_name": "Python 3 (ipykernel)",
   "language": "python",
   "name": "python3"
  },
  "language_info": {
   "codemirror_mode": {
    "name": "ipython",
    "version": 3
   },
   "file_extension": ".py",
   "mimetype": "text/x-python",
   "name": "python",
   "nbconvert_exporter": "python",
   "pygments_lexer": "ipython3",
   "version": "3.11.7"
  }
 },
 "nbformat": 4,
 "nbformat_minor": 5
}
