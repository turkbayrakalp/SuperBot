{
 "cells": [
  {
   "cell_type": "code",
   "execution_count": 4,
   "id": "c586aa2d-ad4b-4301-8fdf-3aa9fe3cb454",
   "metadata": {
    "tags": []
   },
   "outputs": [],
   "source": [
    "# Let's write a more extensive example that uses Closing Price and TakerBuyVolume as features for an SVM model.\n",
    "# This example assumes you have a CSV file with your data as described.\n",
    "\n",
    "import pandas as pd\n",
    "from sklearn.model_selection import train_test_split\n",
    "from sklearn.preprocessing import StandardScaler\n",
    "from sklearn.svm import SVC\n",
    "from sklearn.metrics import classification_report, accuracy_score\n",
    "\n",
    "# Load your data from CSV\n",
    "file_path = '../Dataframes/1-Combined_Data'    \n",
    "df = pd.read_csv(\"1-Combined_Data.csv\")\n",
    "\n",
    "# Feature Engineering\n",
    "# For this example, we'll just use Closing Price and TakerBuyVolume directly\n",
    "X = df[['ClosePrice', 'TakerBuyVolume']]\n",
    "\n",
    "# Labeling - Creating a simplistic label for demonstration\n",
    "# This is a placeholder. You need to replace it with your logic for Buy, Sell, Hold\n",
    "# For example, comparing close price of the next row (future price) with the current row (present price)\n",
    "# Here, shifting the ClosePrice column up to compare the next period's price with the current period's price\n",
    "df['FutureClosePrice'] = df['ClosePrice'].shift(-1)\n",
    "df['Action'] = 'Hold'  # Default to 'Hold'\n",
    "df.loc[df['FutureClosePrice'] > df['ClosePrice'] * 1.01, 'Action'] = 'Buy'  # If the future price is >1% higher, 'Buy'\n",
    "df.loc[df['FutureClosePrice'] < df['ClosePrice'] * 0.99, 'Action'] = 'Sell'  # If the future price is >1% lower, 'Sell'\n",
    "\n",
    "y = df['Action'][:-1]  # Remove the last row since it has no future price to compare with\n",
    "X = X[:-1]  # Ensure X and y have the same length\n",
    "\n",
    "# Splitting the dataset into training and testing sets\n",
    "X_train, X_test, y_train, y_test = train_test_split(X, y, test_size=0.2, random_state=42)\n",
    "\n",
    "# Feature Scaling\n",
    "scaler = StandardScaler()\n",
    "X_train_scaled = scaler.fit_transform(X_train)\n",
    "X_test_scaled = scaler.transform(X_test)\n",
    "\n",
    "# SVM Model\n",
    "model = SVC(kernel='rbf')\n",
    "model.fit(X_train_scaled, y_train)\n",
    "\n",
    "# Predictions\n",
    "y_pred = model.predict(X_test_scaled)\n",
    "\n",
    "# Evaluation\n",
    "print(classification_report(y_test, y_pred))\n",
    "print(f\"Accuracy: {accuracy_score(y_test, y_pred)}\")\n",
    "\n",
    "# Note: The labeling logic above is very simplistic and should be adjusted according to your strategy and dataset specifics."
   ]
  },
  {
   "cell_type": "code",
   "execution_count": null,
   "id": "b30424a2-2497-4b46-9f3a-1f2735ae879a",
   "metadata": {},
   "outputs": [],
   "source": []
  }
 ],
 "metadata": {
  "kernelspec": {
   "display_name": "Python 3 (ipykernel)",
   "language": "python",
   "name": "python3"
  },
  "language_info": {
   "codemirror_mode": {
    "name": "ipython",
    "version": 3
   },
   "file_extension": ".py",
   "mimetype": "text/x-python",
   "name": "python",
   "nbconvert_exporter": "python",
   "pygments_lexer": "ipython3",
   "version": "3.11.2"
  }
 },
 "nbformat": 4,
 "nbformat_minor": 5
}
