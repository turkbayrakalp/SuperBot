{
 "cells": [
  {
   "cell_type": "code",
   "execution_count": 3,
   "id": "c586aa2d-ad4b-4301-8fdf-3aa9fe3cb454",
   "metadata": {
    "tags": []
   },
   "outputs": [],
   "source": [
    "import pandas as pd\n",
    "import numpy as np\n",
    "from sklearn.model_selection import train_test_split, GridSearchCV\n",
    "from sklearn.preprocessing import StandardScaler\n",
    "from sklearn.svm import SVC\n",
    "from sklearn.metrics import classification_report\n",
    "from sklearn.utils import class_weight\n",
    "from imblearn.over_sampling import SMOTE\n",
    "from imblearn.pipeline import make_pipeline\n",
    "\n",
    "# Load the data\n",
    "df = pd.read_csv('3-2018_2020Data.csv')\n",
    "\n",
    "# Adjusting to calculate 3-day Moving Averages for ClosePrice and Volume\n",
    "df['3day_MA_Close'] = df['ClosePrice'].rolling(window=3).mean().shift(-1)\n",
    "df['3day_MA_Volume'] = df['Volume'].rolling(window=3).mean().shift(-1)\n",
    "\n",
    "# Drop rows with NaN values that result from the rolling mean calculation\n",
    "df.dropna(inplace=True)\n",
    "\n",
    "X = df[['3day_MA_Close', '3day_MA_Volume']].values[:-1]  # Features: 3-day MAs\n",
    "y_binary = np.where(df['ClosePrice'].diff() > 0, 1, 0)[1:]  # Target: 1 if price increased, 0 otherwise\n",
    "\n",
    "# Split the data\n",
    "X_train_clf, X_test_clf, y_train_clf, y_test_clf = train_test_split(X, y_binary, test_size=0.2, random_state=42)\n",
    "\n",
    "# Pipeline for SMOTE + Scaling + SVC\n",
    "pipeline = make_pipeline(\n",
    "    SMOTE(random_state=42),\n",
    "    StandardScaler(),\n",
    "    SVC(random_state=42)\n",
    ")\n",
    "\n",
    "# GridSearchCV for hyperparameter tuning\n",
    "param_grid = {\n",
    "    'svc__C': [0.1, 1, 10],\n",
    "    'svc__gamma': ['scale', 'auto'],\n",
    "    'svc__kernel': ['rbf', 'linear']\n",
    "}\n",
    "\n",
    "grid_search = GridSearchCV(pipeline, param_grid, cv=5, scoring='accuracy')\n",
    "grid_search.fit(X_train_clf, y_train_clf)\n",
    "\n",
    "# Display the best parameters found and the best cross-validated score\n",
    "print(\"Best parameters found: \", grid_search.best_params_)\n",
    "print(\"Best cross-validated score: \", grid_search.best_score_)\n",
    "\n",
    "# Predictions and Evaluation\n",
    "y_pred_clf = grid_search.predict(X_test_clf)\n",
    "print(classification_report(y_test_clf, y_pred_clf))\n"
   ]
  },
  {
   "cell_type": "markdown",
   "id": "2d899a0a",
   "metadata": {},
   "source": []
  },
  {
   "cell_type": "code",
   "execution_count": null,
   "id": "b30424a2-2497-4b46-9f3a-1f2735ae879a",
   "metadata": {},
   "outputs": [],
   "source": []
  }
 ],
 "metadata": {
  "kernelspec": {
   "display_name": "Python 3 (ipykernel)",
   "language": "python",
   "name": "python3"
  },
  "language_info": {
   "codemirror_mode": {
    "name": "ipython",
    "version": 3
   },
   "file_extension": ".py",
   "mimetype": "text/x-python",
   "name": "python",
   "nbconvert_exporter": "python",
   "pygments_lexer": "ipython3",
   "version": "3.11.2"
  }
 },
 "nbformat": 4,
 "nbformat_minor": 5
}
